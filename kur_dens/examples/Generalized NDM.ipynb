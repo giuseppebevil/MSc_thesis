{
 "cells": [
  {
   "cell_type": "code",
   "execution_count": null,
   "id": "6d0e3a53-546b-4ede-b92b-f8cd04afb032",
   "metadata": {},
   "outputs": [],
   "source": [
    "from __future__ import division\n",
    "import numpy as np\n",
    "import networkx as nx\n",
    "import matplotlib.pyplot as plt\n",
    "import scipy as sci\n",
    "from numba import jit"
   ]
  },
  {
   "cell_type": "markdown",
   "id": "a79b6c27-32e2-4af2-a178-335eee7c04e7",
   "metadata": {},
   "source": [
    "# Here is an implementation of contineous and discrete cases. \n",
    "## In \"statistical propagator\" you can choose \"old=True\" to get the old NDM. \n",
    "I don't have the Jacobians implementation in my codes, but they are easy to plug in. You need to replace the Laplacian with the Jacobian of your choice using the table in PRE."
   ]
  },
  {
   "cell_type": "code",
   "execution_count": null,
   "id": "b319b7cf-79fa-4ef7-a9a9-0175ad8a30b4",
   "metadata": {},
   "outputs": [],
   "source": [
    "def H_diff_continuous(g):\n",
    "    # Calculate the diffusion control operator.\n",
    "    A = nx.to_numpy_array(g)\n",
    "    return np.sum(A,axis=0)*np.eye(len(A)) - A\n",
    "\n",
    "def H_rw_discrete(g):\n",
    "    # Calculate the random walk control operator (transition matrix).\n",
    "    A = nx.to_numpy_array(g)\n",
    "    np.fill_diagonal(A, 1) # adding self-loops is a typical practice to avoid problems with isolated nodes.\n",
    "    K_inv = (1/np.sum(A,axis=0))*np.eye(len(A))\n",
    "    return A @ K_inv\n",
    "\n",
    "def G_tau_continuous(H,tau):\n",
    "    # Calculate the time-evolution operator for continuous dynamics\n",
    "    # H is the control operator\n",
    "    # tau is the propagation time\n",
    "    return sci.linalg.expm(-tau * H)\n",
    "\n",
    "def G_tau_discrete(H,tau):\n",
    "    # Calculate the time-evolution operator for discrete dynamics\n",
    "    # H is the control operator\n",
    "    # tau is the propagation time\n",
    "    return H**tau\n",
    "\n",
    "def statistical_propagator(H , tau , continuous = True  ,old = False):\n",
    "    ### Returns {density matrix, entropy, partition function, free energy}\n",
    "    if continuous:\n",
    "        G_tau = G_tau_continuous(H,tau)\n",
    "    else:\n",
    "        G_tau = G_tau_discrete(H,tau)\n",
    "    ### With the assumption that all nodes have equal probability of perturbation \n",
    "    if old:\n",
    "        U = G_tau / len(H)\n",
    "    else:\n",
    "        U = G_tau @ G_tau.T / len(H)\n",
    "    return U\n",
    "\n",
    "def network_thermodynamics(H, tau, continuous = True):\n",
    "    U_t = statistical_propagator( H , tau , continuous = True  )\n",
    "    Z = np.trace(U_t)  # partition function\n",
    "    rho = U_t/Z  # density matrix\n",
    "\n",
    "    ### Make sure the numerical errors doesn't affect entropy\n",
    "    eigvals, eigvecs = np.linalg.eigh(rho)\n",
    "    eigvals = np.delete(eigvals, np.where(abs(eigvals)<10**-10)).real\n",
    "    #######################\n",
    "    \n",
    "    eigvals /= np.sum(eigvals)\n",
    "    S = -np.sum( eigvals * np.log(eigvals)) # entropy\n",
    "    \n",
    "    return rho, S, Z, -np.log(Z)/tau\n",
    "\n",
    "@jit(nopython=True)\n",
    "def H_J(coupling1, coupling2, angles_vec1, angles_vec2, adj_mat1, adj_mat2, omega_f, A, B, t):\n",
    "    N1 = len(adj_mat1)\n",
    "    N2 = len(adj_mat2)\n",
    "    J = np.zeros((N1+N2+1, N1+N2+1))\n",
    "    for i in range(N1):\n",
    "        for j in range(N1):\n",
    "            if i == j:\n",
    "                for k in range(N1):\n",
    "                    if k!=i:\n",
    "                        J[i,j] -= coupling1*adj_mat1[i,k]*np.cos(angles_vec1[k] - angles_vec1[i])\n",
    "            else:\n",
    "                J[i,j] = coupling1*adj_mat1[i,j]* np.cos(angles_vec1[j] - angles_vec1[i])\n",
    "    for i in range(N2):\n",
    "        for j in range(N2):\n",
    "            if i == j:\n",
    "                for k in range(N2):\n",
    "                    if k!=i:\n",
    "                        J[N1+i,N1+j] -= coupling2*adj_mat2[i,k]*np.cos(angles_vec2[k] - angles_vec2[i])\n",
    "            else:\n",
    "                J[N1+i,N1+j] = coupling2*adj_mat2[i,j]* np.cos(angles_vec2[j] - angles_vec2[i])\n",
    "    for i in range(N1):\n",
    "        J[N1+N2, i] = -A*np.abs(1j*np.exp(1j*angles_vec1[i]))/N1 + B*np.abs(1j*np.sum(np.exp(1j*(angles_vec1[i] - angles_vec2[j])) for j in range(N2)))/(N1*N2)\n",
    "        J[i, N1+N2] = np.sin(omega_f*t - angles_vec1[i])\n",
    "    for i in range(N2):\n",
    "        J[N1+N2, N1+i] = -A*np.abs(1j*np.exp(1j*angles_vec2[i]))/N2 + B*np.abs(-1j*np.sum(np.exp(1j*(angles_vec1[j] - angles_vec2[i])) for j in range(N1)))/(N1*N2)\n",
    "        J[N1+i, N1+N2] = np.sin(omega_f*t - angles_vec2[i])\n",
    "        \n",
    "    return -J"
   ]
  },
  {
   "cell_type": "markdown",
   "id": "e3c1183c-7336-467f-a429-e85b75e1a78d",
   "metadata": {},
   "source": [
    "# You need to choose a network (g) and a control operator (H)\n",
    "## I have built the control operators for continuous diffusion and discrete random walks as examples\n",
    "You can plug in the Jacobian instead of Laplacian--- and make it a new function."
   ]
  },
  {
   "cell_type": "code",
   "execution_count": null,
   "id": "6bb1956c-41c6-45d8-a644-e877114ac181",
   "metadata": {},
   "outputs": [],
   "source": [
    "g = nx.erdos_renyi_graph(30,.2)\n",
    "H = H_J(0.2, 0.0, )\n",
    "tau = 3\n",
    "rho , S , Z , F= network_thermodynamics(H, tau, continuous = True)"
   ]
  },
  {
   "cell_type": "code",
   "execution_count": 9,
   "id": "326d3080-daf3-4657-b541-1940709330e8",
   "metadata": {},
   "outputs": [
    {
     "data": {
      "text/plain": [
       "np.float64(0.0571844667445924)"
      ]
     },
     "execution_count": 9,
     "metadata": {},
     "output_type": "execute_result"
    }
   ],
   "source": [
    "S"
   ]
  },
  {
   "cell_type": "code",
   "execution_count": 121,
   "id": "2c3117b9-5698-4ecd-bd01-9fbf89107f76",
   "metadata": {},
   "outputs": [],
   "source": [
    "g = nx.erdos_renyi_graph(30,.2)\n",
    "H = H_rw_discrete(g)\n",
    "tau = 3\n",
    "rho , S , Z = network_thermodynamics(H, tau, continuous = False)"
   ]
  }
 ],
 "metadata": {
  "kernelspec": {
   "display_name": "Python 3",
   "language": "python",
   "name": "python3"
  },
  "language_info": {
   "codemirror_mode": {
    "name": "ipython",
    "version": 3
   },
   "file_extension": ".py",
   "mimetype": "text/x-python",
   "name": "python",
   "nbconvert_exporter": "python",
   "pygments_lexer": "ipython3",
   "version": "3.12.7"
  }
 },
 "nbformat": 4,
 "nbformat_minor": 5
}
