{
 "cells": [
  {
   "cell_type": "code",
   "execution_count": 1,
   "metadata": {},
   "outputs": [],
   "source": [
    "import numpy as np\n",
    "import matplotlib.pyplot as plt\n",
    "import networkx as nx\n",
    "import seaborn as sns\n",
    "import sys\n",
    "from ipywidgets import interact\n",
    "sys.path.insert(0, \"D:/GIUSEPPE/Universita/TesiMagistrale/Kuramoto/Codice/modified\")\n",
    "%load_ext autoreload\n",
    "%autoreload 2\n",
    "from kuramoto import Kuramoto, plotting\n",
    "# the above two lines are needed in order to see the modifications in python files without restarting vscode, 2 means that all modules will be reimported\n",
    "sns.set_style(\"whitegrid\")\n",
    "sns.set_context(\"notebook\", font_scale=1.6)"
   ]
  },
  {
   "cell_type": "code",
   "execution_count": 5,
   "metadata": {},
   "outputs": [
    {
     "data": {
      "application/vnd.jupyter.widget-view+json": {
       "model_id": "829dfb023ca34ed2a8630ba12aeaae61",
       "version_major": 2,
       "version_minor": 0
      },
      "text/plain": [
       "interactive(children=(FloatSlider(value=1.0, description='coupling_ext', max=2.0), FloatSlider(value=0.5, desc…"
      ]
     },
     "metadata": {},
     "output_type": "display_data"
    },
    {
     "data": {
      "text/plain": [
       "<function __main__.interactive_plot(coupling_ext, sigma)>"
      ]
     },
     "execution_count": 5,
     "metadata": {},
     "output_type": "execute_result"
    }
   ],
   "source": [
    "#######################################\n",
    "############ Complete graph ###########\n",
    "#######################################\n",
    "\n",
    "# Parameters\n",
    "\n",
    "N = 100 # number of nodes\n",
    "dt = 0.01 # time step\n",
    "t_max = 30 # max time of the simulation\n",
    "coupling = 1.8 # coupling between oscillators (will be normalized by the number of interactions)\n",
    "omega_f = 1 # frequence of the external field\n",
    "\n",
    "\n",
    "def interactive_plot(coupling_ext, sigma):\n",
    "    graph_nx = nx.complete_graph(N)\n",
    "    graph = nx.to_numpy_array(graph_nx)\n",
    "    model = Kuramoto(coupling = coupling, dt = dt, t_max = t_max, n_nodes = N, coupling_ext = coupling_ext, omega_f = omega_f, sigma = sigma)\n",
    "    act_mat = model.run(adj_mat = graph)\n",
    "    fig, ax = plt.subplots(2, 1, figsize = (24, 12))\n",
    "    fig.subplots_adjust(hspace=0)\n",
    "    plt.suptitle('Complete graph', fontsize = 30)\n",
    "    colors = sns.color_palette(\"crest\", n_colors=len(act_mat))\n",
    "    for i in range(len(act_mat)):\n",
    "        ax[0].plot(np.linspace(0, t_max, int(t_max/dt)), np.sin(act_mat[i]), linewidth = 0.9, color = colors[i])\n",
    "    ax[0].set_xlabel('Time', fontsize=22)\n",
    "    ax[0].set_ylabel(r'$\\sin(\\theta)$', fontsize=22)\n",
    "    ax[0].set_title(\"Trajectories\", fontsize = 25)\n",
    "    \n",
    "    ax[1].plot(np.linspace(0, t_max, int(t_max/dt)), [Kuramoto.phase_coherence(vec) for vec in act_mat.T], 'bo', markersize = 1)\n",
    "    ax[1].set_ylabel('Order parameter', fontsize=22)\n",
    "    ax[1].set_xlabel('Time', fontsize=22)\n",
    "    ax[1].set_ylim((-0.01, 1))\n",
    "    \n",
    "interact(interactive_plot, coupling_ext = (0, 2.0), sigma = (0, 1.0))"
   ]
  },
  {
   "cell_type": "code",
   "execution_count": 15,
   "metadata": {},
   "outputs": [
    {
     "data": {
      "application/vnd.jupyter.widget-view+json": {
       "model_id": "2a60d7c6555c4f09bb80b54bce3f45bc",
       "version_major": 2,
       "version_minor": 0
      },
      "text/plain": [
       "interactive(children=(FloatSlider(value=2.0, description='coupling', max=4.0), FloatSlider(value=0.5, descript…"
      ]
     },
     "metadata": {},
     "output_type": "display_data"
    },
    {
     "data": {
      "text/plain": [
       "<function __main__.interactive_plot(coupling, sigma, coupling_ext)>"
      ]
     },
     "execution_count": 15,
     "metadata": {},
     "output_type": "execute_result"
    }
   ],
   "source": [
    "#######################################\n",
    "############ Erdos-Renyi graph ########\n",
    "#######################################\n",
    "\n",
    "# Parameters\n",
    "\n",
    "N = 100 # number of nodes\n",
    "dt = 0.01 # time step\n",
    "t_max = 50 # max time of the simulation\n",
    "coupling_ext = 0\n",
    "omega_f = 1 # frequence of the external field\n",
    "\n",
    "\n",
    "def interactive_plot(coupling, sigma, coupling_ext):\n",
    "    graph_nx = nx.erdos_renyi_graph(N, p = 0.6)\n",
    "    graph = nx.to_numpy_array(graph_nx)\n",
    "    model = Kuramoto(coupling = coupling, dt = dt, t_max = t_max, n_nodes = N, coupling_ext = coupling_ext, omega_f = omega_f, sigma = sigma)\n",
    "    act_mat = model.run(adj_mat = graph)\n",
    "    fig, ax = plt.subplots(2, 1, figsize = (24, 12))\n",
    "    fig.subplots_adjust(hspace=0)\n",
    "    plt.suptitle('Erdos-Renyi graph', fontsize = 30)\n",
    "    colors = sns.color_palette(\"crest\", n_colors=len(act_mat))\n",
    "    for i in range(len(act_mat)):\n",
    "        ax[0].plot(np.linspace(0, t_max, int(t_max/dt)), np.sin(act_mat[i]), linewidth = 0.9, color = colors[i])\n",
    "    ax[0].set_xlabel('Time', fontsize=22)\n",
    "    ax[0].set_ylabel(r'$\\sin(\\theta)$', fontsize=22)\n",
    "    ax[0].set_title(\"Trajectories\", fontsize = 25)\n",
    "    \n",
    "    ax[1].plot(np.linspace(0, t_max, int(t_max/dt)), [Kuramoto.phase_coherence(vec) for vec in act_mat.T], 'bo', markersize = 1)\n",
    "    ax[1].set_ylabel('Order parameter', fontsize=22)\n",
    "    ax[1].set_xlabel('Time', fontsize=22)\n",
    "    ax[1].set_ylim((-0.01, 1))\n",
    "    \n",
    "interact(interactive_plot, coupling = (0, 4.0), sigma = (0, 1.0), coupling_ext = (0, 2.0))"
   ]
  },
  {
   "cell_type": "code",
   "execution_count": 7,
   "metadata": {},
   "outputs": [
    {
     "data": {
      "application/vnd.jupyter.widget-view+json": {
       "model_id": "5e8baeef87e84d3db616834e7ad7ccd1",
       "version_major": 2,
       "version_minor": 0
      },
      "text/plain": [
       "interactive(children=(FloatSlider(value=1.0, description='coupling_ext', max=2.0), FloatSlider(value=0.5, desc…"
      ]
     },
     "metadata": {},
     "output_type": "display_data"
    },
    {
     "data": {
      "text/plain": [
       "<function __main__.interactive_plot(coupling_ext, sigma)>"
      ]
     },
     "execution_count": 7,
     "metadata": {},
     "output_type": "execute_result"
    }
   ],
   "source": [
    "#######################################\n",
    "######## watts- Strogatz graph ########\n",
    "#######################################\n",
    "\n",
    "# Parameters\n",
    "\n",
    "N = 100 # number of nodes\n",
    "dt = 0.01 # time step\n",
    "t_max = 30 # max time of the simulation\n",
    "coupling = 3.5 # coupling between oscillators (will be normalized by the number of interactions)\n",
    "omega_f = 1 # frequence of the external field\n",
    "\n",
    "\n",
    "def interactive_plot(coupling_ext, sigma):\n",
    "    graph_nx = nx.watts_strogatz_graph(N, k = 5, p = 0.3)\n",
    "    graph = nx.to_numpy_array(graph_nx)\n",
    "    model = Kuramoto(coupling = coupling, dt = dt, t_max = t_max, n_nodes = N, coupling_ext = coupling_ext, omega_f = omega_f, sigma = sigma)\n",
    "    act_mat = model.run(adj_mat = graph)\n",
    "    fig, ax = plt.subplots(2, 1, figsize = (24, 12))\n",
    "    fig.subplots_adjust(hspace=0)\n",
    "    plt.suptitle('Watts-Strogatz graph', fontsize = 30)\n",
    "    colors = sns.color_palette(\"crest\", n_colors=len(act_mat))\n",
    "    for i in range(len(act_mat)):\n",
    "        ax[0].plot(np.linspace(0, t_max, int(t_max/dt)), np.sin(act_mat[i]), linewidth = 0.9, color = colors[i])\n",
    "    ax[0].set_xlabel('Time', fontsize=22)\n",
    "    ax[0].set_ylabel(r'$\\sin(\\theta)$', fontsize=22)\n",
    "    ax[0].set_title(\"Trajectories\", fontsize = 25)\n",
    "    \n",
    "    ax[1].plot(np.linspace(0, t_max, int(t_max/dt)), [Kuramoto.phase_coherence(vec) for vec in act_mat.T], 'bo', markersize = 1)\n",
    "    ax[1].set_ylabel('Order parameter', fontsize=22)\n",
    "    ax[1].set_xlabel('Time', fontsize=22)\n",
    "    ax[1].set_ylim((-0.01, 1))\n",
    "    \n",
    "interact(interactive_plot, coupling_ext = (0, 2.0), sigma = (0, 1.0))"
   ]
  },
  {
   "cell_type": "code",
   "execution_count": 3,
   "metadata": {},
   "outputs": [
    {
     "data": {
      "application/vnd.jupyter.widget-view+json": {
       "model_id": "ecd2e869e6644013b1806bec75e1ea1c",
       "version_major": 2,
       "version_minor": 0
      },
      "text/plain": [
       "interactive(children=(FloatSlider(value=4.0, description='coupling', max=8.0), FloatSlider(value=0.5, descript…"
      ]
     },
     "metadata": {},
     "output_type": "display_data"
    },
    {
     "data": {
      "text/plain": [
       "<function __main__.interactive_plot(coupling, sigma)>"
      ]
     },
     "execution_count": 3,
     "metadata": {},
     "output_type": "execute_result"
    }
   ],
   "source": [
    "#######################################\n",
    "######## Barabasi-Albert graph ########\n",
    "#######################################\n",
    "\n",
    "# Parameters\n",
    "\n",
    "N = 1000 # number of nodes\n",
    "dt = 0.01 # time step\n",
    "t_max = 50 # max time of the simulation\n",
    "coupling_ext = 0\n",
    "omega_f = 1 # frequence of the external field\n",
    "\n",
    "\n",
    "def interactive_plot(coupling, sigma):\n",
    "    graph_nx = nx.barabasi_albert_graph(N, 1)\n",
    "    graph = nx.to_numpy_array(graph_nx)\n",
    "    model = Kuramoto(coupling = coupling, dt = dt, t_max = t_max, n_nodes = N, coupling_ext = coupling_ext, omega_f = omega_f, sigma = sigma)\n",
    "    act_mat = model.run(adj_mat = graph)\n",
    "    fig, ax = plt.subplots(2, 1, figsize = (24, 12))\n",
    "    fig.subplots_adjust(hspace=0)\n",
    "    plt.suptitle('Barabasi-Albert graph', fontsize = 30)\n",
    "    colors = sns.color_palette(\"crest\", n_colors=len(act_mat))\n",
    "    for i in range(len(act_mat)):\n",
    "        ax[0].plot(np.linspace(0, t_max, int(t_max/dt)), np.sin(act_mat[i]), linewidth = 0.9, color = colors[i])\n",
    "    ax[0].set_xlabel('Time', fontsize=22)\n",
    "    ax[0].set_ylabel(r'$\\sin(\\theta)$', fontsize=22)\n",
    "    ax[0].set_title(\"Trajectories\", fontsize = 25)\n",
    "    \n",
    "    ax[1].plot(np.linspace(0, t_max, int(t_max/dt)), [Kuramoto.phase_coherence(vec) for vec in act_mat.T], 'bo', markersize = 1)\n",
    "    ax[1].set_ylabel('Order parameter', fontsize=22)\n",
    "    ax[1].set_xlabel('Time', fontsize=22)\n",
    "    ax[1].set_ylim((-0.01, 1))\n",
    "    \n",
    "interact(interactive_plot, coupling = (0, 8.0), sigma = (0, 1.0))"
   ]
  }
 ],
 "metadata": {
  "kernelspec": {
   "display_name": "Python 3",
   "language": "python",
   "name": "python3"
  },
  "language_info": {
   "codemirror_mode": {
    "name": "ipython",
    "version": 3
   },
   "file_extension": ".py",
   "mimetype": "text/x-python",
   "name": "python",
   "nbconvert_exporter": "python",
   "pygments_lexer": "ipython3",
   "version": "3.12.7"
  }
 },
 "nbformat": 4,
 "nbformat_minor": 2
}
